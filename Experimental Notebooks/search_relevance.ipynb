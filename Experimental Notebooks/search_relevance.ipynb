{
 "cells": [
  {
   "cell_type": "markdown",
   "metadata": {},
   "source": [
    "# Azure AI Search: Relevance"
   ]
  },
  {
   "cell_type": "markdown",
   "metadata": {},
   "source": [
    "## Setup API clients"
   ]
  },
  {
   "cell_type": "code",
   "execution_count": 75,
   "metadata": {},
   "outputs": [],
   "source": [
    "import os\n",
    "\n",
    "# import azure.identity\n",
    "import dotenv\n",
    "import openai\n",
    "from azure.search.documents import SearchClient\n",
    "from azure.search.documents.models import VectorizedQuery\n",
    "from azure.core.credentials import AzureKeyCredential\n",
    "import json\n",
    "\n",
    "dotenv.load_dotenv()\n",
    "\n",
    "# azure_credential = azure.identity.DefaultAzureCredential()\n",
    "\n",
    "# Set up OpenAI client based on environment variables\n",
    "dotenv.load_dotenv()\n",
    "AZURE_OPENAI_SERVICE = \"ragsearchpocopenai\"\n",
    "AZURE_OPENAI_ADA_DEPLOYMENT = \"text-embedding-ada-002\"\n",
    "\n",
    "# azure_credential = azure.identity.DefaultAzureCredential()\n",
    "azure_openai_key = os.getenv(\"AZURE_OPENAI_KEY\")\n",
    "# token_provider = azure.identity.get_bearer_token_provider(azure_openai_key,\n",
    "#     \"https://cognitiveservices.azure.com/.default\")\n",
    "openai_client = openai.AzureOpenAI(\n",
    "    api_version=\"2024-06-01\",\n",
    "    azure_endpoint=f\"https://{AZURE_OPENAI_SERVICE}.openai.azure.com\",\n",
    "    api_key=azure_openai_key,\n",
    ")\n",
    "\n",
    "\n",
    "def get_embedding(text):\n",
    "    get_embeddings_response = openai_client.embeddings.create(\n",
    "        model=AZURE_OPENAI_ADA_DEPLOYMENT, input=text\n",
    "    )\n",
    "    return get_embeddings_response.data[0].embedding\n",
    "\n",
    "\n",
    "# Initialize Azure search client\n",
    "AZURE_SEARCH_SERVICE = \"ragsearchpocsch\"\n",
    "AZURE_SEARCH_ENDPOINT = f\"https://{AZURE_SEARCH_SERVICE}.search.windows.net\"\n",
    "\n",
    "AZURE_SEARCH_FULL_INDEX = \"ragsearch\"\n",
    "search_client = SearchClient(\n",
    "    AZURE_SEARCH_ENDPOINT,\n",
    "    AZURE_SEARCH_FULL_INDEX,\n",
    "    credential=AzureKeyCredential(os.getenv(\"AZURE_SEARCH_KEY\")),\n",
    ")"
   ]
  },
  {
   "cell_type": "markdown",
   "metadata": {},
   "source": [
    "#### Vector search is not always optimal\n",
    "\n",
    "For example, consider searches for exact strings."
   ]
  },
  {
   "cell_type": "code",
   "execution_count": 76,
   "metadata": {},
   "outputs": [
    {
     "name": "stdout",
     "output_type": "stream",
     "text": [
      "[\n",
      "  {\n",
      "    \"score\": 0.81123,\n",
      "    \"content\": \"Not found\",\n",
      "    \"title\": \"Northwind_Health_Plus_Benefits_Details.pdf\"\n",
      "  },\n",
      "  {\n",
      "    \"score\": 0.80838,\n",
      "    \"content\": \"$45.00</td>\\r <td>$55.00</td>\\r </tr>\\r <tr>\\r <td>Employee +1</td>\\r <td>$65.00</td>\\r <td>$71.00</td>\\r </tr>\\r <tr>\\r <td>Employee +2 or more</td>\\r <td>$78.00</td>\\r <td>$89.00</td>\\r </tr>\\r </table>\",\n",
      "    \"title\": \"Benefit_Options.pdf\"\n",
      "  },\n",
      "  {\n",
      "    \"score\": 0.80753,\n",
      "    \"content\": \"Not found\",\n",
      "    \"title\": \"Northwind_Standard_Benefits_Details.pdf\"\n",
      "  }\n",
      "]\n"
     ]
    }
   ],
   "source": [
    "search_query = \"$45.00\"\n",
    "search_vector = get_embedding(search_query)\n",
    "r = search_client.search(None, top=3, vector_queries=[\n",
    "    VectorizedQuery(vector=search_vector, k_nearest_neighbors=50, fields=\"vector\")])\n",
    "results = []\n",
    "for doc in r:\n",
    "    found_content = \"Not found\"\n",
    "    if search_query.lower() in doc['chunk'].lower():\n",
    "        found_content = doc['chunk'][doc['chunk'].lower().find(search_query.lower()):].replace(\"\\n\", \" \")\n",
    "    results.append({\n",
    "        \"score\": round(doc['@search.score'],5),\n",
    "        \"content\": found_content,\n",
    "        \"title\": doc['title']\n",
    "    })\n",
    "\n",
    "print(json.dumps(results, indent=2))"
   ]
  },
  {
   "cell_type": "markdown",
   "metadata": {},
   "source": [
    "Compare to a text search for same query:"
   ]
  },
  {
   "cell_type": "code",
   "execution_count": 77,
   "metadata": {},
   "outputs": [
    {
     "name": "stdout",
     "output_type": "stream",
     "text": [
      "[\n",
      "  {\n",
      "    \"score\": 3.863,\n",
      "    \"content\": \"$45.00</td>\\r <td>$55.00</td>\\r </tr>\\r <tr>\\r <td>Employee +1</td>\\r <td>$65.00</td>\\r <td>$71.00</td>\\r </tr>\\r <tr>\\r <td>Employee +2 or more</td>\\r <td>$78.00</td>\\r <td>$89.00</td>\\r </tr>\\r </table>\",\n",
      "    \"title\": \"Benefit_Options.pdf\"\n",
      "  }\n",
      "]\n"
     ]
    }
   ],
   "source": [
    "r = search_client.search(search_query, top=3)\n",
    "results = []\n",
    "for doc in r:\n",
    "    found_content = \"Not found\"\n",
    "    if search_query.lower() in doc['chunk'].lower():\n",
    "        found_content = doc['chunk'][doc['chunk'].lower().find(search_query.lower()):].replace(\"\\n\", \" \")\n",
    "    results.append({\n",
    "        \"score\": round(doc['@search.score'],5),\n",
    "        \"content\": found_content,\n",
    "        \"title\": doc['title']\n",
    "    })\n",
    "\n",
    "print(json.dumps(results, indent=2))"
   ]
  },
  {
   "cell_type": "markdown",
   "metadata": {},
   "source": [
    "#### Hybrid retrieval\n",
    "\n",
    "Uses RRF to combine vector and text results."
   ]
  },
  {
   "cell_type": "code",
   "execution_count": 78,
   "metadata": {},
   "outputs": [
    {
     "name": "stdout",
     "output_type": "stream",
     "text": [
      "[\n",
      "  {\n",
      "    \"score\": 0.03306,\n",
      "    \"content\": \"$45.00</td>\\r <td>$55.00</td>\\r </tr>\\r <tr>\\r <td>Employee +1</td>\\r <td>$65.00</td>\\r <td>$71.00</td>\\r </tr>\\r <tr>\\r <td>Employee +2 or more</td>\\r <td>$78.00</td>\\r <td>$89.00</td>\\r </tr>\\r </table>\",\n",
      "    \"title\": \"Benefit_Options.pdf\"\n",
      "  },\n",
      "  {\n",
      "    \"score\": 0.01667,\n",
      "    \"content\": \"Not found\",\n",
      "    \"title\": \"Northwind_Health_Plus_Benefits_Details.pdf\"\n",
      "  },\n",
      "  {\n",
      "    \"score\": 0.01613,\n",
      "    \"content\": \"Not found\",\n",
      "    \"title\": \"Northwind_Standard_Benefits_Details.pdf\"\n",
      "  },\n",
      "  {\n",
      "    \"score\": 0.01587,\n",
      "    \"content\": \"Not found\",\n",
      "    \"title\": \"Northwind_Standard_Benefits_Details.pdf\"\n",
      "  },\n",
      "  {\n",
      "    \"score\": 0.01562,\n",
      "    \"content\": \"Not found\",\n",
      "    \"title\": \"Northwind_Health_Plus_Benefits_Details.pdf\"\n",
      "  },\n",
      "  {\n",
      "    \"score\": 0.01538,\n",
      "    \"content\": \"Not found\",\n",
      "    \"title\": \"Northwind_Standard_Benefits_Details.pdf\"\n",
      "  },\n",
      "  {\n",
      "    \"score\": 0.01515,\n",
      "    \"content\": \"Not found\",\n",
      "    \"title\": \"Northwind_Standard_Benefits_Details.pdf\"\n",
      "  },\n",
      "  {\n",
      "    \"score\": 0.01493,\n",
      "    \"content\": \"Not found\",\n",
      "    \"title\": \"Northwind_Standard_Benefits_Details.pdf\"\n",
      "  },\n",
      "  {\n",
      "    \"score\": 0.01471,\n",
      "    \"content\": \"Not found\",\n",
      "    \"title\": \"Northwind_Standard_Benefits_Details.pdf\"\n",
      "  },\n",
      "  {\n",
      "    \"score\": 0.01449,\n",
      "    \"content\": \"Not found\",\n",
      "    \"title\": \"Northwind_Standard_Benefits_Details.pdf\"\n",
      "  }\n",
      "]\n"
     ]
    }
   ],
   "source": [
    "search_vector = get_embedding(search_query)\n",
    "r = search_client.search(search_query, top=15, vector_queries=[\n",
    "    VectorizedQuery(vector=search_vector, k_nearest_neighbors=10, fields=\"vector\")])\n",
    "results = []\n",
    "for doc in r:\n",
    "    found_content = \"Not found\"\n",
    "    if search_query.lower() in doc['chunk'].lower():\n",
    "        found_content = doc['chunk'][doc['chunk'].lower().find(search_query.lower()):].replace(\"\\n\", \" \")\n",
    "    results.append({\n",
    "        \"score\": round(doc['@search.score'],5),\n",
    "        \"content\": found_content,\n",
    "        \"title\": doc['title']\n",
    "    })\n",
    "\n",
    "print(json.dumps(results, indent=2))"
   ]
  },
  {
   "cell_type": "markdown",
   "metadata": {},
   "source": [
    "#### Hybrid ranking is not always optimal"
   ]
  },
  {
   "cell_type": "code",
   "execution_count": 79,
   "metadata": {},
   "outputs": [
    {
     "name": "stdout",
     "output_type": "stream",
     "text": [
      "[\n",
      "  {\n",
      "    \"score\": 0.032,\n",
      "    \"content\": \"Introducing PerksPlus - the ultimate benefits program designed to support the health and wellness of\\r employees. With PerksPlus, employees have the opportunity to expense up to $1000 for fitness-related\\r programs, making it easier and more affordable to maintain a healthy lifestyle. PerksPlus is not only\\r designed to support employees' physical health, but also their mental health. Regular exercise has been\\r shown to reduce stress, improve mood, and enhance overall well-being. With PerksPlus, employees can\\r invest in their health and wellness, while enjoying the peace of mind that comes with knowing they are\\r getting the support they need to lead a healthy life.\\r \\r What is Covered?\\r \\r PerksPlus covers a wide range of fitness activities, including but not limited to:\\r \\r \\u00b7 Gym memberships\\r \\r \\u00b7 Personal training sessions\\r \\r \\u00b7 Yoga and Pilates classes\\r \\r \\u00b7 Fitness equipment purchases\\r \\r \\u00b7 Sports team fees\\r \\r \\u00b7 Health retreats and spas\\r \\r \\u00b7 Outdoor adventure activities (such as rock climbing, hiking, and kayaking)\\r \\r \\u00b7 Group fitness classes (such as dance, martial arts, and cycling)\\r \\r \\u00b7 Virtual fitness programs (such as online yoga and workout classes)\\r \\r In addition to the wide range of fitness activities covered by PerksPlus, the program also covers a variety\\r of lessons and experiences that promote health and wellness. Some of the lessons covered under\\r PerksPlus include:\\r \\r \\u00b7 Skiing and snowboarding lessons\\r \\r \\u00b7 Scuba diving lessons\\r \\r \\u00b7 Surfing lessons\\r \\r \\u00b7 Horseback riding lessons\\r \\r These lessons provide employees with the opportunity to try new things, challenge themselves, and\\r improve their physical skills. They are also a great way to relieve stress and have fun while staying active.\\r \\r With PerksPlus, employees can choose from a variety of fitness programs to suit their individual needs\\r and preferences. Whether you're looking to improve your physical fitness, reduce stress, or just have\\r some fun, PerksPlus has you covered.\\r \\r What is Not Covered?\",\n",
      "    \"title\": \"PerksPlus.pdf\"\n",
      "  },\n",
      "  {\n",
      "    \"score\": 0.02604,\n",
      "    \"content\": \"PageBreak -->\\r \\r \\u00b7 Manage product marketing activities to ensure successful product launches.\\r \\r \\u00b7 Develop and manage product budgets.\\r \\r Qualifications:\\r \\r \\u00b7 Bachelor's degree in business, marketing, engineering, or a related field.\\r \\r \\u00b7 7+ years of product management experience.\\r \\r \\u00b7 5+ years of management experience.\\r \\r \\u00b7 Proven track record of success in launching products in the consumer electronics\\r industry.\\r \\r \\u00b7 Excellent interpersonal, communication, and problem-solving skills.\\r \\r \\u00b7 Excellent project management and organizational skills.\\r \\r \\u00b7 Ability to work independently and collaboratively with cross-functional teams.\\r \\r \\u00b7 Strong knowledge of product development processes and product lifecycles.\\r \\r \\u00b7 Ability to analyze customer feedback and develop strategies to meet customer needs.\\r \\r \\u00b7 Ability to develop and manage product budgets.\\r \\r \\u00b7 Proficiency in Microsoft Office Suite.\",\n",
      "    \"title\": \"role_library.pdf\"\n",
      "  },\n",
      "  {\n",
      "    \"score\": 0.02583,\n",
      "    \"content\": \"plan, habilitation services are covered up to a certain\\r dollar amount and number of visits. This amount and the number of visits may vary\\r depending on the individual's needs. To receive coverage for habilitation services, the\\r individual must be referred to a qualified provider by their primary care physician.\\r \\r When seeking habilitation services, it is important to consider the individual's needs and\\r goals. The provider should take this into consideration when creating a treatment plan.\\r Some of the goals of habilitation services may include improving the individual's ability to\\r communicate, learning how to use adaptive equipment, improving physical coordination\\r and strength, and developing social and behavioral skills.\\r \\r When seeking habilitation services, it is important to understand the different types of\\r therapy that are available. This may include physical therapy, occupational therapy, speech\\r and language therapy, and/or behavior modification therapy. Each of these therapies has\\r different goals and approaches. It is important to understand which type of therapy is best\\r suited for the individual's needs and goals.\\r \\r It is also important to note that habilitation services are not covered for individuals under\\r the age of 21. These services are only available for those 21 and older. Additionally,\\r habilitation services are not covered for the treatment of mental illness or substance abuse.\\r \\r <!-- PageBreak -->\\r \\r Finally, it is important to remember that habilitation services can be expensive. If an\\r individual is not able to afford the cost of habilitation services, they may want to consider\\r seeking assistance from a state-funded program or other organizations that provide\\r financial assistance.\\r \\r Overall, the Northwind Health Plus plan provides comprehensive coverage for habilitation\\r services. It is important to understand the coverage limits and exceptions for habilitation\\r services before seeking treatment.\",\n",
      "    \"title\": \"Northwind_Health_Plus_Benefits_Details.pdf\"\n",
      "  },\n",
      "  {\n",
      "    \"score\": 0.02424,\n",
      "    \"content\": \"lessons\\r \\r These lessons provide employees with the opportunity to try new things, challenge themselves, and\\r improve their physical skills. They are also a great way to relieve stress and have fun while staying active.\\r \\r With PerksPlus, employees can choose from a variety of fitness programs to suit their individual needs\\r and preferences. Whether you're looking to improve your physical fitness, reduce stress, or just have\\r some fun, PerksPlus has you covered.\\r \\r What is Not Covered?\\r \\r In addition to the wide range of activities covered by PerksPlus, there is also a list of things that are not\\r covered under the program. These include but are not limited to:\\r \\r . Non-fitness related expenses\\r \\r \\u00b7 Medical treatments and procedures\\r \\r \\u00b7 Travel expenses (unless related to a fitness program)\\r \\r <!-- PageBreak -->\",\n",
      "    \"title\": \"PerksPlus.pdf\"\n",
      "  },\n",
      "  {\n",
      "    \"score\": 0.02017,\n",
      "    \"content\": \"from dental injury\\r \\r \\u00b7 Services provided outside of a facility\\r \\r Tips for Employees\\r \\r . Make sure that your dentist is licensed to practice in your state\\r \\r \\u00b7 Check your plan to make sure that the full cost of services is covered\\r \\r \\u00b7 Ask your dentist about any additional costs that may not be covered by your plan\\r \\r \\u00b7 Have a list of any medications or allergies that may affect the anesthesia\\r \\r . Make sure that the dentist is aware of any medical conditions that might increase the risk\\r of complications\\r \\r \\u00b7 Ask your dentist about any special instructions that you may need to follow before or after\\r the procedure\\r \\r \\u00b7 Make sure that you understand the risks and benefits of the procedure\\r \\r \\u00b7 Ask your dentist about any follow-up care that may be needed after the procedure\\r \\r . Make sure that you have a plan for transportation in case you need to get to the facility for\\r the procedure.\\r \\r Diagnostic X-Ray, Lab And Imaging\\r \\r COVERED SERVICES: Diagnostic X-Ray, Lab and Imaging\\r \\r Northwind Health Plus covers diagnostic X-ray, lab, and imaging services. This includes\\r services like X-rays, CAT scans, MRIs, ultrasounds, and mammograms. Lab services are\\r covered for tests such as blood tests, urine tests, and other diagnostic tests ordered by a\\r doctor. Coverage for imaging services includes Magnetic Resonance Imaging (MRI),\\r Computed Tomography (CT) scans, and Positron Emission Tomography (PET) scans.\\r \\r Exceptions\\r \\r <!-- PageBreak -->\\r \\r While most diagnostic X-ray, lab, and imaging services are covered by Northwind Health\\r Plus, there are some exceptions. The plan does not cover services that are not medically\\r necessary, such as cosmetic surgery. It also does not cover services that are experimental or\\r investigational.\",\n",
      "    \"title\": \"Northwind_Health_Plus_Benefits_Details.pdf\"\n",
      "  }\n",
      "]\n"
     ]
    }
   ],
   "source": [
    "search_query = \"learning about underwater activities\"\n",
    "search_vector = get_embedding(search_query)\n",
    "r = search_client.search(search_query, top=5, vector_queries=[\n",
    "    VectorizedQuery(vector=search_vector, k_nearest_neighbors=10, fields=\"vector\")])\n",
    "results = []\n",
    "for doc in r:\n",
    "    content = doc[\"chunk\"].replace(\"\\n\", \" \")\n",
    "    results.append({\n",
    "        \"score\": round(doc['@search.score'],5),\n",
    "        \"content\": content,\n",
    "        \"title\": doc['title']\n",
    "    })\n",
    "print(json.dumps(results, indent=2))"
   ]
  },
  {
   "cell_type": "markdown",
   "metadata": {},
   "source": [
    "#### Hybrid + semantic reranking 🎉"
   ]
  },
  {
   "cell_type": "code",
   "execution_count": 80,
   "metadata": {},
   "outputs": [
    {
     "name": "stdout",
     "output_type": "stream",
     "text": [
      "[\n",
      "  {\n",
      "    \"score\": 0.032,\n",
      "    \"content\": \"Introducing PerksPlus - the ultimate benefits program designed to support the health and wellness of\\r employees. With PerksPlus, employees have the opportunity to expense up to $1000 for fitness-related\\r programs, making it easier and more affordable to maintain a healthy lifestyle. PerksPlus is not only\\r designed to support employees' physical health, but also their mental health. Regular exercise has been\\r shown to reduce stress, improve mood, and enhance overall well-being. With PerksPlus, employees can\\r invest in their health and wellness, while enjoying the peace of mind that comes with knowing they are\\r getting the support they need to lead a healthy life.\\r \\r What is Covered?\\r \\r PerksPlus covers a wide range of fitness activities, including but not limited to:\\r \\r \\u00b7 Gym memberships\\r \\r \\u00b7 Personal training sessions\\r \\r \\u00b7 Yoga and Pilates classes\\r \\r \\u00b7 Fitness equipment purchases\\r \\r \\u00b7 Sports team fees\\r \\r \\u00b7 Health retreats and spas\\r \\r \\u00b7 Outdoor adventure activities (such as rock climbing, hiking, and kayaking)\\r \\r \\u00b7 Group fitness classes (such as dance, martial arts, and cycling)\\r \\r \\u00b7 Virtual fitness programs (such as online yoga and workout classes)\\r \\r In addition to the wide range of fitness activities covered by PerksPlus, the program also covers a variety\\r of lessons and experiences that promote health and wellness. Some of the lessons covered under\\r PerksPlus include:\\r \\r \\u00b7 Skiing and snowboarding lessons\\r \\r \\u00b7 Scuba diving lessons\\r \\r \\u00b7 Surfing lessons\\r \\r \\u00b7 Horseback riding lessons\\r \\r These lessons provide employees with the opportunity to try new things, challenge themselves, and\\r improve their physical skills. They are also a great way to relieve stress and have fun while staying active.\\r \\r With PerksPlus, employees can choose from a variety of fitness programs to suit their individual needs\\r and preferences. Whether you're looking to improve your physical fitness, reduce stress, or just have\\r some fun, PerksPlus has you covered.\\r \\r What is Not Covered?\",\n",
      "    \"Reranker\": 2.39506,\n",
      "    \"title\": \"PerksPlus.pdf\"\n",
      "  },\n",
      "  {\n",
      "    \"score\": 0.02424,\n",
      "    \"content\": \"lessons\\r \\r These lessons provide employees with the opportunity to try new things, challenge themselves, and\\r improve their physical skills. They are also a great way to relieve stress and have fun while staying active.\\r \\r With PerksPlus, employees can choose from a variety of fitness programs to suit their individual needs\\r and preferences. Whether you're looking to improve your physical fitness, reduce stress, or just have\\r some fun, PerksPlus has you covered.\\r \\r What is Not Covered?\\r \\r In addition to the wide range of activities covered by PerksPlus, there is also a list of things that are not\\r covered under the program. These include but are not limited to:\\r \\r . Non-fitness related expenses\\r \\r \\u00b7 Medical treatments and procedures\\r \\r \\u00b7 Travel expenses (unless related to a fitness program)\\r \\r <!-- PageBreak -->\",\n",
      "    \"Reranker\": 1.46475,\n",
      "    \"title\": \"PerksPlus.pdf\"\n",
      "  },\n",
      "  {\n",
      "    \"score\": 0.01746,\n",
      "    \"content\": \"There are several steps employers can take to support their employees in their weight\\r management efforts. Employers can consider providing resources and programs that focus\\r on healthy lifestyle habits, such as nutrition education and physical activity. They can also\\r \\r <!-- PageBreak -->\\r \\r provide access to weight management programs, including medically supervised programs\\r and weight loss surgery. Additionally, employers can create a wellness culture in the\\r workplace by encouraging healthy eating, offering healthy snacks, and providing incentives\\r for employees who participate in health and wellness activities.\",\n",
      "    \"Reranker\": 0.9848,\n",
      "    \"title\": \"Northwind_Health_Plus_Benefits_Details.pdf\"\n",
      "  },\n",
      "  {\n",
      "    \"score\": 0.02037,\n",
      "    \"content\": \"Occupational therapy helps individuals develop, maintain, or restore skills for daily living\\r and work. It can help individuals who have difficulty performing activities of daily living due\\r to an injury, illness, or disability. Northwind Health Plus covers medically necessary\\r occupational therapy services.\\r \\r Speech-Language Pathology\\r \\r Speech-language pathology helps individuals who have difficulty communicating due to a\\r speech, language, or hearing disorder or disability. It can help individuals improve their\\r communication skills, as well as their ability to interact with others. Northwind Health Plus\\r covers medically necessary speech-language pathology services.\\r \\r Exceptions\\r \\r Northwind Health Plus covers rehabilitation therapy services that are medically necessary.\\r Services that are not considered medically necessary are not covered. Examples of services\\r that are not medically necessary include, but are not limited to, recreational therapy and\\r personal training.\\r \\r Tips\\r \\r If you need rehabilitation therapy services, it is important to talk to your doctor or health\\r care provider to determine if the service is medically necessary. Your doctor or health care\\r provider can also work with you to find an in-network provider who can provide the\\r service. You should also keep track of your visits and make sure that they are billed to your\\r \\r <!-- PageBreak -->\\r \\r Northwind Health Plus plan. Finally, you should ask your doctor or health care provider\\r about any co-pays or coinsurance that may apply to the services.\\r \\r \\r #### Skilled Nursing Facility Services Skilled Nursing Facility Services\\r \\r Northwind Health Plus provides comprehensive coverage for skilled nursing facility\\r services. This coverage includes a wide range of services such as nursing care, physical\\r therapy, occupational therapy, and speech-language pathology services. These services are\\r generally provided on an inpatient basis in a skilled nursing facility or hospital setting.\",\n",
      "    \"Reranker\": 0.97417,\n",
      "    \"title\": \"Northwind_Health_Plus_Benefits_Details.pdf\"\n",
      "  },\n",
      "  {\n",
      "    \"score\": 0.01587,\n",
      "    \"content\": \"other treatment deemed\\r necessary by a physician.\\r \\r \\u00b7 Wage replacement: This includes a portion of wages lost due to the injury or illness.\\r \\r \\u00b7 Vocational rehabilitation: This includes education, retraining, and job placement\\r assistance.\\r \\r \\u00b7 Death benefits: This includes a lump sum payment to the surviving spouse or dependents\\r in the event of a work-related death.\\r \\r In order to receive these benefits, employees must report the injury or illness to their\\r supervisor as soon as possible. Employees must also submit a written claim to their\\r employer within one year of the injury or illness.\\r \\r It's important to note that Workers' Compensation Insurance does not cover injuries or\\r illnesses that are not work-related. This includes injuries that occur during lunch breaks, on\\r the commute to and from work, or during leisure activities.\\r \\r Employees should also be aware that benefits are limited to the amount of coverage\\r purchased by the employer. If the cost of medical treatment exceeds the amount of coverage\\r purchased, the employee may be responsible for the remaining balance.\\r \\r Finally, employees should be aware that Workers' Compensation Insurance is regulated by\\r state and federal laws. Depending on the state, employees may have the right to receive\\r legal representation or to appeal denied claims. In some states, employees may have the\\r right to choose their own physician or to receive benefits for permanent disabilities.\\r \\r At Contoso, we are committed to providing our employees with a safe and productive work\\r environment, and we take the necessary steps to ensure that our Workers' Compensation\\r Insurance coverage meets all state and federal requirements. Should you have any\\r questions about this coverage, please contact the Human Resources Department.\",\n",
      "    \"Reranker\": 0.95148,\n",
      "    \"title\": \"Northwind_Standard_Benefits_Details.pdf\"\n",
      "  }\n",
      "]\n"
     ]
    }
   ],
   "source": [
    "search_query = \"learning about underwater activities\"\n",
    "search_vector = get_embedding(search_query)\n",
    "r = search_client.search(\n",
    "        search_query,\n",
    "        top=5, \n",
    "        vector_queries=[\n",
    "                VectorizedQuery(vector=search_vector, k_nearest_neighbors=50, fields=\"vector\")],\n",
    "        query_type=\"semantic\",\n",
    "        semantic_configuration_name=\"ragsearch-semantic-config\",)\n",
    "results = []\n",
    "for doc in r:\n",
    "    content = doc[\"chunk\"].replace(\"\\n\", \" \")\n",
    "    results.append({\n",
    "        \"score\": round(doc['@search.score'],5),\n",
    "        \"content\": content,\n",
    "        \"Reranker\":round(doc['@search.reranker_score'],5),\n",
    "        \"title\": doc['title']\n",
    "    })\n",
    "print(json.dumps(results, indent=2))"
   ]
  }
 ],
 "metadata": {
  "kernelspec": {
   "display_name": "condavodafonegenaienv",
   "language": "python",
   "name": "python3"
  },
  "language_info": {
   "codemirror_mode": {
    "name": "ipython",
    "version": 3
   },
   "file_extension": ".py",
   "mimetype": "text/x-python",
   "name": "python",
   "nbconvert_exporter": "python",
   "pygments_lexer": "ipython3",
   "version": "3.10.16"
  },
  "orig_nbformat": 4
 },
 "nbformat": 4,
 "nbformat_minor": 2
}
