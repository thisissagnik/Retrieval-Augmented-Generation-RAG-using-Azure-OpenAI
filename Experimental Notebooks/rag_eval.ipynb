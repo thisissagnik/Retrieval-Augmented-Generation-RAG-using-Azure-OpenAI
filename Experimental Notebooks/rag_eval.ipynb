{
 "cells": [
  {
   "cell_type": "markdown",
   "metadata": {},
   "source": [
    "# Evaluate RAG answer quality"
   ]
  },
  {
   "cell_type": "markdown",
   "metadata": {},
   "source": [
    "## Setup API clients"
   ]
  },
  {
   "cell_type": "code",
   "execution_count": 1,
   "metadata": {},
   "outputs": [],
   "source": [
    "import os\n",
    "\n",
    "# import azure.identity\n",
    "import dotenv\n",
    "import openai\n",
    "from azure.search.documents import SearchClient\n",
    "from azure.search.documents.models import VectorizedQuery\n",
    "from azure.core.credentials import AzureKeyCredential\n",
    "import json\n",
    "\n",
    "dotenv.load_dotenv()\n",
    "\n",
    "# azure_credential = azure.identity.DefaultAzureCredential()\n",
    "\n",
    "# Set up OpenAI client based on environment variables\n",
    "dotenv.load_dotenv()\n",
    "AZURE_OPENAI_SERVICE = \"ragsearchpocopenai\"\n",
    "AZURE_OPENAI_ADA_DEPLOYMENT = \"text-embedding-ada-002\"\n",
    "\n",
    "# azure_credential = azure.identity.DefaultAzureCredential()\n",
    "azure_openai_key = os.getenv(\"AZURE_OPENAI_KEY\")\n",
    "# token_provider = azure.identity.get_bearer_token_provider(azure_openai_key,\n",
    "#     \"https://cognitiveservices.azure.com/.default\")\n",
    "openai_client = openai.AzureOpenAI(\n",
    "    api_version=\"2024-06-01\",\n",
    "    azure_endpoint=f\"https://{AZURE_OPENAI_SERVICE}.openai.azure.com\",\n",
    "    api_key=azure_openai_key,\n",
    ")\n",
    "\n",
    "\n",
    "def get_embedding(text):\n",
    "    get_embeddings_response = openai_client.embeddings.create(\n",
    "        model=AZURE_OPENAI_ADA_DEPLOYMENT, input=text\n",
    "    )\n",
    "    return get_embeddings_response.data[0].embedding\n",
    "\n",
    "\n",
    "# Initialize Azure search client\n",
    "AZURE_SEARCH_SERVICE = \"ragsearchpocsch\"\n",
    "AZURE_SEARCH_ENDPOINT = f\"https://{AZURE_SEARCH_SERVICE}.search.windows.net\"\n",
    "\n",
    "AZURE_SEARCH_FULL_INDEX = \"ragsearch\"\n",
    "search_client = SearchClient(\n",
    "    AZURE_SEARCH_ENDPOINT,\n",
    "    AZURE_SEARCH_FULL_INDEX,\n",
    "    credential=AzureKeyCredential(os.getenv(\"AZURE_SEARCH_KEY\")),\n",
    ")"
   ]
  },
  {
   "cell_type": "markdown",
   "metadata": {},
   "source": [
    "## Get answer for a question"
   ]
  },
  {
   "cell_type": "code",
   "execution_count": 3,
   "metadata": {},
   "outputs": [
    {
     "name": "stdout",
     "output_type": "stream",
     "text": [
      "A product manager is responsible for overseeing product development and marketing strategy, ensuring successful product launches, and implementing product life-cycle management processes. They collaborate with internal teams such as engineering, sales, marketing, and finance, and analyze industry trends to identify opportunities for new products. Key responsibilities include developing product marketing plans, managing product budgets, and monitoring product performance and customer feedback [role_library.pdf].\n"
     ]
    }
   ],
   "source": [
    "user_question = \"What does a product manager do?\"\n",
    "user_question_vector = get_embedding(user_question)\n",
    "\n",
    "r = search_client.search(\n",
    "        user_question,\n",
    "        top=5, \n",
    "        vector_queries=[\n",
    "                VectorizedQuery(vector=user_question_vector, k_nearest_neighbors=50, fields=\"vector\")],\n",
    "        query_type=\"semantic\",\n",
    "        semantic_configuration_name=\"ragsearch-semantic-config\")\n",
    "\n",
    "sources = \"\\n\\n\".join([f\"[{doc['title']}]: {doc['chunk']}\\n\" for doc in r])\n",
    "\n",
    "\n",
    "SYSTEM_MESSAGE = \"\"\"\n",
    "Assistant helps company employees questions about the employee handbook. Be brief in your answers.\n",
    "Answer ONLY with the facts listed in the list of sources below.\n",
    "If there isn't enough information below, say you don't know. Do not generate answers that don't use the sources below.\n",
    "Each source has a name followed by colon and the actual information, include the source name for each fact you use.\n",
    "Use square brackets to reference the source, for example [info1.txt].\n",
    "\"\"\"\n",
    "USER_MESSAGE = user_question + \"\\nSources: \" + sources\n",
    "\n",
    "response = openai_client.chat.completions.create(\n",
    "    model=\"gpt-4o-mini\",\n",
    "    temperature=0.7,\n",
    "    messages=[\n",
    "        {\"role\": \"system\", \"content\": SYSTEM_MESSAGE},\n",
    "        {\"role\": \"user\", \"content\": USER_MESSAGE},\n",
    "    ],\n",
    ")\n",
    "\n",
    "\n",
    "answer = response.choices[0].message.content\n",
    "print(answer)"
   ]
  },
  {
   "cell_type": "markdown",
   "metadata": {},
   "source": [
    "## Evaluate the answer quality\n",
    "\n",
    "We can use the `promptflow-evals` package to run GPT-based evaluators on the RAG responses."
   ]
  },
  {
   "cell_type": "code",
   "execution_count": null,
   "metadata": {},
   "outputs": [
    {
     "name": "stdout",
     "output_type": "stream",
     "text": [
      "{'f1_score': 0.380952380952381, 'gpt_similarity': 4.0, 'gpt_groundedness': 5.0, 'gpt_coherence': 5.0, 'gpt_relevance': 5.0, 'gpt_fluency': 5.0}\n"
     ]
    }
   ],
   "source": [
    "import os\n",
    "\n",
    "from promptflow.core import AzureOpenAIModelConfiguration\n",
    "from promptflow.evals.evaluators import QAEvaluator\n",
    "\n",
    "model_config = AzureOpenAIModelConfiguration(\n",
    "    azure_endpoint=f\"https://{AZURE_OPENAI_SERVICE}.openai.azure.com\",\n",
    "    azure_deployment=\"gpt-4o-mini\",\n",
    "    api_key=os.getenv(\"AZURE_OPENAI_KEY\"),\n",
    ")\n",
    "\n",
    "eval_fn = QAEvaluator(model_config)\n",
    "qa_score = eval_fn(\n",
    "    question=user_question,\n",
    "    answer=answer,\n",
    "    context=sources,\n",
    "    ground_truth=\"Product managers are responsible for the strategy, roadmap, and feature definition of a product or product line. They are the key point of contact between the engineering team and other departments, such as marketing and sales. They ensure that the product meets customer needs and aligns with business goals.\",\n",
    ")\n",
    "print(qa_score)"
   ]
  },
  {
   "cell_type": "code",
   "execution_count": null,
   "metadata": {},
   "outputs": [],
   "source": []
  }
 ],
 "metadata": {
  "kernelspec": {
   "display_name": "condavodafonegenaienv",
   "language": "python",
   "name": "python3"
  },
  "language_info": {
   "codemirror_mode": {
    "name": "ipython",
    "version": 3
   },
   "file_extension": ".py",
   "mimetype": "text/x-python",
   "name": "python",
   "nbconvert_exporter": "python",
   "pygments_lexer": "ipython3",
   "version": "3.10.16"
  }
 },
 "nbformat": 4,
 "nbformat_minor": 2
}
